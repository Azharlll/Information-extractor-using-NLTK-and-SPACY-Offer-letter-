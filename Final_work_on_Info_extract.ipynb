{
 "cells": [
  {
   "cell_type": "code",
   "execution_count": 12,
   "metadata": {},
   "outputs": [],
   "source": [
    "full_info = {}"
   ]
  },
  {
   "cell_type": "code",
   "execution_count": 1,
   "metadata": {},
   "outputs": [
    {
     "name": "stdout",
     "output_type": "stream",
     "text": [
      "showing info https://raw.githubusercontent.com/nltk/nltk_data/gh-pages/index.xml\n"
     ]
    },
    {
     "data": {
      "text/plain": [
       "True"
      ]
     },
     "execution_count": 1,
     "metadata": {},
     "output_type": "execute_result"
    }
   ],
   "source": [
    "import nltk\n",
    "nltk.download()"
   ]
  },
  {
   "cell_type": "code",
   "execution_count": 2,
   "metadata": {},
   "outputs": [
    {
     "name": "stdout",
     "output_type": "stream",
     "text": [
      "showing info https://raw.githubusercontent.com/nltk/nltk_data/gh-pages/index.xml\n"
     ]
    }
   ],
   "source": [
    "\n",
    "import nltk\n",
    "from nltk.corpus import stopwords\n",
    "stop = stopwords.words('english')"
   ]
  },
  {
   "cell_type": "code",
   "execution_count": 3,
   "metadata": {},
   "outputs": [],
   "source": [
    "import docx\n",
    "\n",
    "def getText(filename):\n",
    "    doc = docx.Document(filename)\n",
    "    fullText = []\n",
    "    for para in doc.paragraphs:\n",
    "        fullText.append(para.text)\n",
    "    return '\\n'.join(fullText)"
   ]
  },
  {
   "cell_type": "code",
   "execution_count": null,
   "metadata": {},
   "outputs": [],
   "source": []
  },
  {
   "cell_type": "code",
   "execution_count": 4,
   "metadata": {},
   "outputs": [],
   "source": [
    "document = getText('C:\\\\Users\\\\azhar\\\\Desktop\\\\Docssss\\\\OfferletterMd.docx')"
   ]
  },
  {
   "cell_type": "code",
   "execution_count": 5,
   "metadata": {},
   "outputs": [],
   "source": [
    "import re\n",
    "lines_ini = re.split('    |\\n',document)\n",
    "lines_ini = [el.strip(',') for el in lines_ini] # from each line removing comma (,)"
   ]
  },
  {
   "cell_type": "code",
   "execution_count": 6,
   "metadata": {},
   "outputs": [],
   "source": [
    "lines = [nltk.word_tokenize(el) for el in lines_ini] # tokenizing each word from each line,\n",
    "lines = [nltk.pos_tag(el) for el in lines] # applying pos tag one for each word line by line.\n",
    "lines = [x for x in lines if x != []] # finally making a list of list of tokenized word.\n",
    "lines = lines[1:-3] "
   ]
  },
  {
   "cell_type": "code",
   "execution_count": 7,
   "metadata": {},
   "outputs": [],
   "source": [
    "#lines"
   ]
  },
  {
   "cell_type": "code",
   "execution_count": 8,
   "metadata": {},
   "outputs": [],
   "source": [
    "grammer = r'NAME: {^<NN.*><NN.*>?<NN.*>?$}'\n",
    "chunkParser = nltk.RegexpParser(grammer)"
   ]
  },
  {
   "cell_type": "code",
   "execution_count": 9,
   "metadata": {},
   "outputs": [],
   "source": [
    "nameHits = []\n",
    "for tagged_tokens in lines:\n",
    "    chunked_tokens = chunkParser.parse(tagged_tokens)\n",
    "    #print(chunked_tokens)\n",
    "    for subtree in chunked_tokens.subtrees():\n",
    "        if subtree.label() == 'NAME':\n",
    "            nameHits.append(' '.join([i[0] for i in subtree.leaves()]))"
   ]
  },
  {
   "cell_type": "code",
   "execution_count": 13,
   "metadata": {},
   "outputs": [],
   "source": [
    "full_info['Candidate Name'] = nameHits[0]\n",
    "if full_info['Candidate Name'].find('Date')!=-1:\n",
    "    full_info['Candidate Name'] = nameHits[1]\n",
    "    \n",
    "full_info['offerer Name'] = nameHits[-1]\n",
    "if nameHits[-1] == 'Hiring Manager':\n",
    "    full_info['offerer Name'] = nameHits[-2]"
   ]
  },
  {
   "cell_type": "code",
   "execution_count": 14,
   "metadata": {},
   "outputs": [],
   "source": [
    "for l in lines_ini:\n",
    "    if l.lower().find('dear')!= -1 and len(l) > 8:\n",
    "        full_info['Candidate Name'] = l[(l.lower().find('dear') + 5):]\n",
    "        break"
   ]
  },
  {
   "cell_type": "code",
   "execution_count": 15,
   "metadata": {},
   "outputs": [],
   "source": [
    "import spacy\n",
    "nlp = spacy.load('en')\n",
    "\n",
    "def extract_join_dt_sal_org(lines):\n",
    "    dates = []\n",
    "    money = []\n",
    "    org = []\n",
    "    loc = []\n",
    "    time= []\n",
    "    #docu=[]\n",
    "    for line in lines:\n",
    "        doc=nlp(str(line))\n",
    "        for ent in doc.ents:\n",
    "            if ent.label_ == 'ORG':\n",
    "                    org.append(str(ent.text))\n",
    "            if ent.label_ == 'MONEY':\n",
    "                    money.append(str(ent.text))\n",
    "            if ent.label_ == 'DATE':\n",
    "                    match = re.search(r'(^\\d{1,2}\\D.*\\d{4}$)',ent.text.strip())\n",
    "                    if match != None:\n",
    "                        dates.append(str(ent.text))\n",
    "            if ent.label_ == 'GPE':\n",
    "                    loc.append(ent.text)\n",
    "            if ent.label_ == 'TIME':\n",
    "                time.append(ent.text)\n",
    "            #if ent.label_ == 'LAW':\n",
    "                #docu.append(ent.text)    \n",
    "    \n",
    "    if not dates:\n",
    "        dates = ['not found']\n",
    "    if not money:\n",
    "        money = ['Confidential']\n",
    "    if not org:\n",
    "        org = ['not found']\n",
    "    if not loc:\n",
    "        loc=['not found']\n",
    "    if not time:\n",
    "        time=['Not Found']\n",
    "    #if not docu:\n",
    "        #docu=['Not Mentioned']    \n",
    "    return dates[-1],money[0],org[0],loc[0],time[0]#,docu[0]"
   ]
  },
  {
   "cell_type": "code",
   "execution_count": 16,
   "metadata": {},
   "outputs": [],
   "source": [
    "join_date,salary,org,loc,time=extract_join_dt_sal_org(lines_ini)\n",
    "full_info['Joining date'] = join_date\n",
    "full_info['Salary'] = salary\n",
    "full_info['Organisation Name'] = org\n",
    "full_info['Location']= loc\n",
    "full_info['Time per day/weekly']=time\n"
   ]
  },
  {
   "cell_type": "code",
   "execution_count": 17,
   "metadata": {},
   "outputs": [
    {
     "ename": "ModuleNotFoundError",
     "evalue": "No module named 'find_job_titles'",
     "output_type": "error",
     "traceback": [
      "\u001b[1;31m---------------------------------------------------------------------------\u001b[0m",
      "\u001b[1;31mModuleNotFoundError\u001b[0m                       Traceback (most recent call last)",
      "\u001b[1;32m<ipython-input-17-7fa8663fe8d9>\u001b[0m in \u001b[0;36m<module>\u001b[1;34m()\u001b[0m\n\u001b[1;32m----> 1\u001b[1;33m \u001b[1;32mimport\u001b[0m \u001b[0mfind_job_titles\u001b[0m\u001b[1;33m\u001b[0m\u001b[0m\n\u001b[0m\u001b[0;32m      2\u001b[0m \u001b[1;32mfrom\u001b[0m \u001b[0mfind_job_titles\u001b[0m \u001b[1;32mimport\u001b[0m \u001b[0mFinderAcora\u001b[0m\u001b[1;33m\u001b[0m\u001b[0m\n\u001b[0;32m      3\u001b[0m \u001b[0mb\u001b[0m\u001b[1;33m=\u001b[0m\u001b[0mFinderAcora\u001b[0m\u001b[1;33m(\u001b[0m\u001b[1;33m)\u001b[0m\u001b[1;33m\u001b[0m\u001b[0m\n\u001b[0;32m      4\u001b[0m \u001b[0mgen\u001b[0m\u001b[1;33m=\u001b[0m\u001b[0mFinderAcora\u001b[0m\u001b[1;33m.\u001b[0m\u001b[0mfind_raw\u001b[0m\u001b[1;33m(\u001b[0m\u001b[0mb\u001b[0m\u001b[1;33m,\u001b[0m\u001b[0mdocument\u001b[0m\u001b[1;33m)\u001b[0m\u001b[1;33m\u001b[0m\u001b[0m\n\u001b[0;32m      5\u001b[0m \u001b[0mdesignation\u001b[0m\u001b[1;33m=\u001b[0m\u001b[1;33m[\u001b[0m\u001b[1;33m]\u001b[0m\u001b[1;33m\u001b[0m\u001b[0m\n",
      "\u001b[1;31mModuleNotFoundError\u001b[0m: No module named 'find_job_titles'"
     ]
    }
   ],
   "source": [
    "import find_job_titles\n",
    "from find_job_titles import FinderAcora\n",
    "b=FinderAcora()\n",
    "gen=FinderAcora.find_raw(b,document)\n",
    "designation=[]\n",
    "for l in gen:\n",
    "    designation.append(l)\n",
    "    break"
   ]
  },
  {
   "cell_type": "code",
   "execution_count": 16,
   "metadata": {},
   "outputs": [],
   "source": [
    "\n",
    "if not designation:\n",
    "    full_info['Designation'] = 'Not found'\n",
    "else:\n",
    "    des= designation[0]\n",
    "    d = document[des.start-15:des.end+15]\n",
    "    if document.find('Trainee')!=-1:\n",
    "        ind = document.find('Trainee')\n",
    "        d = document[ind-20:ind+27]\n",
    "    if d == '':\n",
    "        d = document[des.start:des.end+15]\n",
    "        \n",
    "    d = nltk.word_tokenize(str(d))\n",
    "    d = nltk.pos_tag(d)\n",
    "    grammer = r'DESIGNATION: {<NNP>*}'\n",
    "    chunkParser = nltk.RegexpParser(grammer)\n",
    "    desHits = []\n",
    "    chunked_tokens = chunkParser.parse(d)\n",
    "    for subtree in chunked_tokens.subtrees():\n",
    "        if subtree.label() == 'DESIGNATION':\n",
    "            word=' '.join([i[0] for i in subtree.leaves()])\n",
    "            if document.find('Trainee')!=-1:\n",
    "                desHits.append(word)\n",
    "            elif des.match in word:\n",
    "                desHits.append(word)\n",
    "    if not desHits:\n",
    "        full_info['Designation'] = 'Not found'\n",
    "    else:\n",
    "        full_info['Designation'] = desHits[0]"
   ]
  },
  {
   "cell_type": "code",
   "execution_count": 17,
   "metadata": {},
   "outputs": [],
   "source": [
    "if ((full_info['Designation']).strip() == (full_info['Organisation Name']).strip()):\n",
    "    full_info['Organisation Name'] = 'Not Found'"
   ]
  },
  {
   "cell_type": "code",
   "execution_count": 18,
   "metadata": {},
   "outputs": [
    {
     "data": {
      "text/plain": [
       "{'Candidate Name': ' Azhar',\n",
       " 'offerer Name': 'David',\n",
       " 'Joining date': '20/09/2018',\n",
       " 'Salary': '$3000 dollar',\n",
       " 'Organisation Name': 'CodeLogix',\n",
       " 'Location': 'Bangalore city',\n",
       " 'Time per day/weekly': ' 9:00 AM to 6:00 PM',\n",
       " 'Designation': 'Software Engineer Trainee'}"
      ]
     },
     "execution_count": 18,
     "metadata": {},
     "output_type": "execute_result"
    }
   ],
   "source": [
    "full_info"
   ]
  },
  {
   "cell_type": "code",
   "execution_count": null,
   "metadata": {},
   "outputs": [],
   "source": []
  },
  {
   "cell_type": "code",
   "execution_count": null,
   "metadata": {},
   "outputs": [],
   "source": []
  }
 ],
 "metadata": {
  "kernelspec": {
   "display_name": "Python 3",
   "language": "python",
   "name": "python3"
  },
  "language_info": {
   "codemirror_mode": {
    "name": "ipython",
    "version": 3
   },
   "file_extension": ".py",
   "mimetype": "text/x-python",
   "name": "python",
   "nbconvert_exporter": "python",
   "pygments_lexer": "ipython3",
   "version": "3.7.0"
  }
 },
 "nbformat": 4,
 "nbformat_minor": 1
}
